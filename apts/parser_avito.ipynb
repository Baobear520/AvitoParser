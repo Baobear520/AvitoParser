{
 "cells": [
  {
   "cell_type": "markdown",
   "id": "19536201-3c55-4eb7-ad12-c880f9640f78",
   "metadata": {},
   "source": [
    "# Парсер Avito "
   ]
  },
  {
   "cell_type": "markdown",
   "id": "640dec16-7fe5-4a9a-b3fa-b83f23c91bcf",
   "metadata": {},
   "source": [
    "## Подключение "
   ]
  },
  {
   "cell_type": "markdown",
   "id": "327db3e4-ad60-4b00-b5f2-7519dc4aa781",
   "metadata": {},
   "source": [
    "`pip install selenium`"
   ]
  },
  {
   "cell_type": "markdown",
   "id": "73eef480-f18d-427b-a158-e922d2d6fbb6",
   "metadata": {},
   "source": [
    "`pip install webdriver-manager`"
   ]
  },
  {
   "cell_type": "code",
   "execution_count": 1,
   "id": "6b7a649f-0438-4876-b7ec-3b7afcfe5b46",
   "metadata": {},
   "outputs": [],
   "source": [
    "# Библиотеки для анализа данных\n",
    "import numpy as np\n",
    "import pandas as pd\n",
    "pd.set_option('display.max_rows', 500)\n",
    "pd.set_option('display.max_columns', 500)\n",
    "pd.set_option('display.width', 1000)\n",
    "pd.set_option('display.max_colwidth', None)\n",
    "\n",
    "import datetime\n",
    "import time\n",
    "\n",
    "import os\n",
    "import re\n",
    "\n",
    "from tqdm import tqdm\n",
    "\n",
    "# Библиотеки для парсинга \n",
    "import requests\n",
    "\n",
    "from bs4 import BeautifulSoup\n",
    "\n",
    "from selenium import webdriver\n",
    "from selenium.webdriver.chrome.service import Service\n",
    "from selenium.webdriver.common.by import By\n",
    "from selenium.webdriver.support.ui import WebDriverWait\n",
    "from selenium.webdriver.support import expected_conditions as EC\n",
    "from selenium.common.exceptions import TimeoutException\n",
    "\n",
    "from webdriver_manager.chrome import ChromeDriverManager\n",
    "\n",
    "# Старый парсер \n",
    "# from src.parser_avito import parse_avito_page\n",
    "\n",
    "# Парсер \n",
    "from src.parser import parse_avito_page\n",
    "from src.tools import get_ad_urls, get_photos\n"
   ]
  },
  {
   "cell_type": "markdown",
   "id": "0ef61945-dd06-4824-a09f-eee4a52b2dd6",
   "metadata": {},
   "source": [
    " "
   ]
  },
  {
   "cell_type": "markdown",
   "id": "ca40cdda-5c22-47b8-9f94-ec054eeacf6b",
   "metadata": {},
   "source": [
    "## Константы "
   ]
  },
  {
   "cell_type": "code",
   "execution_count": 2,
   "id": "8ade40f7-10c4-46ec-bd5b-77cf35fd97be",
   "metadata": {},
   "outputs": [],
   "source": [
    "\n",
    "\n",
    "URL_TEMPLATE = 'https://www.avito.ru/all/avtomobili/xetcbek_5_dv-ASgBAgICAUSm_xHsh4sD?f=ASgBAgECA0SeEp64Aqb_EeyHiwPs6hSSmZADAUX6jBQXeyJmcm9tIjoyMDE1LCJ0byI6bnVsbH0&p='\n",
    "PAUSE_DURATION_SECONDS = 2\n",
    "NUM_PAGES = 100\n",
    "\n",
    "columns = [\n",
    "    'title', 'price', 'characteristics', \n",
    "    'description', 'location', 'link', 'photo'\n",
    "]"
   ]
  },
  {
   "cell_type": "markdown",
   "id": "759ff117-2ba6-41d9-b6b7-b90f77946a7b",
   "metadata": {},
   "source": [
    " "
   ]
  },
  {
   "cell_type": "markdown",
   "id": "5d29db08-e7f6-4e04-8492-29b85d1f918f",
   "metadata": {},
   "source": [
    "## Запуск сервиса"
   ]
  },
  {
   "cell_type": "code",
   "execution_count": 3,
   "id": "0b21ed9b-373a-4016-87c1-611666fb92aa",
   "metadata": {},
   "outputs": [],
   "source": [
    "service = Service(executable_path=ChromeDriverManager().install())\n",
    "driver = webdriver.Chrome(service=service)"
   ]
  },
  {
   "cell_type": "markdown",
   "id": "cdc707e4-bd5f-497f-83cf-0c36f8033234",
   "metadata": {},
   "source": [
    " "
   ]
  },
  {
   "cell_type": "markdown",
   "id": "84dc7ff7-0f74-42de-99bb-e6f35e5f2fa9",
   "metadata": {},
   "source": [
    "## Максимальный номер сохраненной страницы  "
   ]
  },
  {
   "cell_type": "code",
   "execution_count": 4,
   "id": "48b7b83e-fcfa-4b89-a027-7dbca068be1e",
   "metadata": {},
   "outputs": [
    {
     "name": "stdout",
     "output_type": "stream",
     "text": [
      "Максимальный номер: None\n",
      "Начнем парсинг со страницы номер: 1 (вкл)\n",
      "Закончим парсинг на странице номер: 101 (не вкл)\n"
     ]
    }
   ],
   "source": [
    "output_folder = \"data8\"\n",
    "os.makedirs(output_folder, exist_ok=True)\n",
    "\n",
    "# Получаем список всех файлов в папке\n",
    "files = os.listdir(output_folder)\n",
    "\n",
    "# Ищем файлы с расширением .csv и извлекаем числовые части\n",
    "numbers = []\n",
    "for file in files:\n",
    "    if file.endswith('.parquet'):\n",
    "        match = re.search(r'\\d+', file)\n",
    "        if match:\n",
    "            numbers.append(int(match.group()))\n",
    "\n",
    "# Находим максимальное число\n",
    "max_number = max(numbers) if numbers else None\n",
    "print(f\"Максимальный номер: {max_number}\")\n",
    "\n",
    "\n",
    "if not max_number: \n",
    "    start_page_number = 1\n",
    "else: \n",
    "    start_page_number = max_number + 1\n",
    "\n",
    "end_page_number = start_page_number + NUM_PAGES\n",
    "\n",
    "print(f\"Начнем парсинг со страницы номер: {start_page_number} (вкл)\")\n",
    "print(f\"Закончим парсинг на странице номер: {end_page_number} (не вкл)\")"
   ]
  },
  {
   "cell_type": "markdown",
   "id": "0c75b8c5-4713-4955-ad5f-501a7ec4d8b6",
   "metadata": {},
   "source": [
    " "
   ]
  },
  {
   "cell_type": "markdown",
   "id": "d481b306-1794-4d0f-af71-51ed0543e895",
   "metadata": {},
   "source": [
    "## Парсинг"
   ]
  },
  {
   "cell_type": "markdown",
   "id": "6cfd8d11-c82e-4361-bbda-1610ed356f8c",
   "metadata": {},
   "source": [
    "**Логика работы парсера:** \n",
    "1) Заходим на страницу с объявлениями\n",
    "2) Собираем все ссылки на объявления\n",
    "3) В цикле заходим на странички объявлений\n",
    "4) Парсим текстовую информацию\n",
    "5) В цикле проходимся по первым 5 фотографиям и сохраняем их ссылки "
   ]
  },
  {
   "cell_type": "code",
   "execution_count": null,
   "id": "3726443d-f9df-4d31-a7a0-08afefcd9293",
   "metadata": {
    "scrolled": true
   },
   "outputs": [],
   "source": [
    "print(output_folder)\n",
    "\n",
    "for page_num in range(start_page_number, end_page_number):\n",
    "    \n",
    "    print(f\"Начали парсинг страницы # {page_num}\")\n",
    "\n",
    "    df_page = pd.DataFrame(columns=columns)\n",
    "    \n",
    "    try:\n",
    "        # Загрузка страницы с объявлениями\n",
    "        url = URL_TEMPLATE + str(page_num)\n",
    "        driver.get(url)\n",
    "        time.sleep(PAUSE_DURATION_SECONDS)\n",
    "\n",
    "        # Получаем HTML-код страницы\n",
    "        page_source = driver.page_source\n",
    "        soup = BeautifulSoup(page_source, 'html.parser')\n",
    "  \n",
    "        # Извлекаем ссылки на объявления на текущей странице\n",
    "        links = get_ad_urls(soup)\n",
    "\n",
    "        for link in tqdm(links):\n",
    "            \n",
    "            try:\n",
    "                # Переход на страницу объявления\n",
    "                driver.get(link)\n",
    "                time.sleep(PAUSE_DURATION_SECONDS)  # Задержка для полной загрузки\n",
    "\n",
    "                # Парсим данные на странице объявления (название, цена, фото, описание и т.д.)\n",
    "                ad_data = parse_avito_page(driver=driver) # <- словарик \n",
    "                ad_data['link'] = link\n",
    "                ad_data['photo'] = get_photos(driver=driver, cnt=5)\n",
    "\n",
    "                df_page = pd.concat([df_page, pd.DataFrame([ad_data])], ignore_index=True)\n",
    "\n",
    "                \n",
    "            except TimeoutException:\n",
    "                print(f\"Ошибка: объявление {link} не загрузилось, пропускаем...\")\n",
    "                continue\n",
    "            except Exception as e:\n",
    "                print(f\"Произошла ошибка при обработке объявления {link}: {e}\")\n",
    "                continue\n",
    "\n",
    "        # Сохраняем данные для текущей страницы в DataFrame\n",
    "        df_page.to_parquet(f'{output_folder}/cars_data_page_{page_num}.parquet')\n",
    "\n",
    "    except TimeoutException:\n",
    "        print(f\"Ошибка: страница {page_num} не загрузилась, пропускаем...\")\n",
    "        continue\n",
    "    except Exception as e:\n",
    "        print(f\"Произошла ошибка на странице {page_num}: {e}\")\n",
    "        continue\n",
    "\n"
   ]
  },
  {
   "cell_type": "code",
   "execution_count": null,
   "id": "282b9780-3bd7-45d8-bfb0-c7b677e5504d",
   "metadata": {},
   "outputs": [],
   "source": [
    "# Закрываем драйвер после завершения\n",
    "driver.quit()"
   ]
  },
  {
   "cell_type": "markdown",
   "id": "7e744ea0-8d3f-4518-a702-ea48e6e21ba9",
   "metadata": {},
   "source": [
    " "
   ]
  }
 ],
 "metadata": {
  "kernelspec": {
   "display_name": "Python (parser)",
   "language": "python",
   "name": "venv"
  },
  "language_info": {
   "codemirror_mode": {
    "name": "ipython",
    "version": 3
   },
   "file_extension": ".py",
   "mimetype": "text/x-python",
   "name": "python",
   "nbconvert_exporter": "python",
   "pygments_lexer": "ipython3",
   "version": "3.11.7"
  }
 },
 "nbformat": 4,
 "nbformat_minor": 5
}
