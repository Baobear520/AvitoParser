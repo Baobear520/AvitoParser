{
 "cells": [
  {
   "cell_type": "markdown",
   "id": "03cfce79-a479-442c-9b3a-82be2b5da4f0",
   "metadata": {},
   "source": [
    "# Парсер квартир под сдачу "
   ]
  },
  {
   "cell_type": "markdown",
   "id": "b323bed1-6047-45de-aa2f-42277a41256a",
   "metadata": {},
   "source": [
    "## Подключение "
   ]
  },
  {
   "cell_type": "markdown",
   "id": "92fa426a-64ed-4526-bb4f-10c2647a711c",
   "metadata": {},
   "source": [
    " "
   ]
  },
  {
   "cell_type": "markdown",
   "id": "e0fb16b6-b1be-4d81-9820-c43692b70605",
   "metadata": {},
   "source": [
    "`rm -r venv`\n",
    "\n",
    "`source venv/bin/activate`\n",
    "\n",
    "`pip install -r requirements.txt`\n",
    "\n",
    "`python -m ipykernel install --user --name=venv --display-name \"Python (parser)\"`"
   ]
  },
  {
   "cell_type": "markdown",
   "id": "88db4ad4-815d-4a8d-9a47-1456059d1e09",
   "metadata": {},
   "source": [
    " "
   ]
  },
  {
   "cell_type": "code",
   "execution_count": 1,
   "id": "6b7a649f-0438-4876-b7ec-3b7afcfe5b46",
   "metadata": {},
   "outputs": [],
   "source": [
    "# Библиотеки для анализа данных\n",
    "import numpy as np\n",
    "import pandas as pd\n",
    "pd.set_option('display.max_rows', 500)\n",
    "pd.set_option('display.max_columns', 500)\n",
    "pd.set_option('display.width', 1000)\n",
    "pd.set_option('display.max_colwidth', None)\n",
    "\n",
    "import datetime\n",
    "import time\n",
    "\n",
    "import os\n",
    "import re\n",
    "\n",
    "from tqdm import tqdm\n",
    "\n",
    "# Библиотеки для парсинга \n",
    "import requests\n",
    "\n",
    "from bs4 import BeautifulSoup\n",
    "\n",
    "from selenium import webdriver\n",
    "from selenium.webdriver.chrome.service import Service\n",
    "from selenium.webdriver.common.by import By\n",
    "from selenium.webdriver.support.ui import WebDriverWait\n",
    "from selenium.webdriver.support import expected_conditions as EC\n",
    "from selenium.common.exceptions import TimeoutException\n",
    "\n",
    "from webdriver_manager.chrome import ChromeDriverManager\n",
    "\n",
    "# Старый парсер \n",
    "# from src.parser_avito import parse_avito_page\n",
    "\n",
    "# Парсер \n",
    "from src.parser import parse_avito_page\n",
    "from src.tools import get_ad_urls, get_photos\n"
   ]
  },
  {
   "cell_type": "markdown",
   "id": "35f8f1c1-5e38-44ea-a7d2-8e3c62a57439",
   "metadata": {},
   "source": [
    " "
   ]
  },
  {
   "cell_type": "markdown",
   "id": "d890de16-b072-48b2-8d8a-4ff64d338886",
   "metadata": {},
   "source": [
    "## Константы "
   ]
  },
  {
   "cell_type": "code",
   "execution_count": 2,
   "id": "8ade40f7-10c4-46ec-bd5b-77cf35fd97be",
   "metadata": {},
   "outputs": [],
   "source": [
    "URL_TEMPLATE = 'https://www.avito.ru/sankt-peterburg/kvartiry/sdam-ASgBAgICAUSSA8gQ?context=&f=ASgBAQICAUSSA8gQAUDMCCSOWYxZ&p='\n",
    "PAUSE_DURATION_SECONDS = 2\n",
    "NUM_PAGES = 20\n",
    "\n",
    "columns = [\n",
    "    'title', 'price', 'characteristics', \n",
    "    'description', 'location', 'link', 'photo'\n",
    "]"
   ]
  },
  {
   "cell_type": "markdown",
   "id": "ba6b7263-23bf-4dcf-b265-b8759d5a52b0",
   "metadata": {},
   "source": [
    " "
   ]
  },
  {
   "cell_type": "markdown",
   "id": "56ba8def-028c-4dc0-a2a5-f034aedfd9ba",
   "metadata": {},
   "source": [
    "## Запуск сервиса"
   ]
  },
  {
   "cell_type": "code",
   "execution_count": 3,
   "id": "273c6533-3e9a-406e-a150-b09c92fe4d07",
   "metadata": {},
   "outputs": [],
   "source": [
    "service = Service(executable_path=ChromeDriverManager().install())\n",
    "driver = webdriver.Chrome(service=service)"
   ]
  },
  {
   "cell_type": "code",
   "execution_count": 4,
   "id": "9d326dfd-961f-42d3-bfe3-b14c7481d535",
   "metadata": {},
   "outputs": [],
   "source": [
    "# !rm -rf ~/.wdm"
   ]
  },
  {
   "cell_type": "markdown",
   "id": "11a0f11b-130f-427b-86f1-afcdd58df67e",
   "metadata": {},
   "source": [
    " "
   ]
  },
  {
   "cell_type": "markdown",
   "id": "4528fb52-ad74-4f9c-80f2-6acd4757130e",
   "metadata": {},
   "source": [
    "## Запуск парсера"
   ]
  },
  {
   "cell_type": "code",
   "execution_count": 4,
   "id": "3649a2da-8a48-4e43-a756-083c4babbd3f",
   "metadata": {},
   "outputs": [
    {
     "name": "stdout",
     "output_type": "stream",
     "text": [
      "Максимальный номер: 10\n",
      "Начнем парсинг со страницы номер: 11 (вкл)\n",
      "Закончим парсинг на странице номер: 31 (не вкл)\n"
     ]
    }
   ],
   "source": [
    "output_folder = \"data/folder5\"\n",
    "os.makedirs(output_folder, exist_ok=True)\n",
    "\n",
    "# Получаем список всех файлов в папке\n",
    "files = os.listdir(output_folder)\n",
    "\n",
    "# Ищем файлы с расширением .csv и извлекаем числовые части\n",
    "numbers = []\n",
    "for file in files:\n",
    "    if file.endswith('.parquet'):\n",
    "        match = re.search(r'\\d+', file)\n",
    "        if match:\n",
    "            numbers.append(int(match.group()))\n",
    "\n",
    "# Находим максимальное число\n",
    "max_number = max(numbers) if numbers else None\n",
    "print(f\"Максимальный номер: {max_number}\")\n",
    "\n",
    "\n",
    "if not max_number: \n",
    "    start_page_number = 1\n",
    "else: \n",
    "    start_page_number = max_number + 1\n",
    "\n",
    "end_page_number = start_page_number + NUM_PAGES\n",
    "\n",
    "print(f\"Начнем парсинг со страницы номер: {start_page_number} (вкл)\")\n",
    "print(f\"Закончим парсинг на странице номер: {end_page_number} (не вкл)\")"
   ]
  },
  {
   "cell_type": "code",
   "execution_count": 5,
   "id": "568cc76a-347e-43e5-94ab-44aa58af2bb7",
   "metadata": {},
   "outputs": [
    {
     "name": "stdout",
     "output_type": "stream",
     "text": [
      "data/folder5\n",
      "Начали парсинг страницы # 11\n",
      "Произошла ошибка на странице 11: HTTPConnectionPool(host='localhost', port=57719): Read timed out. (read timeout=120)\n",
      "Начали парсинг страницы # 12\n"
     ]
    },
    {
     "name": "stderr",
     "output_type": "stream",
     "text": [
      " 86%|████████████  | 43/50 [32:30<05:31, 47.41s/it]"
     ]
    },
    {
     "name": "stdout",
     "output_type": "stream",
     "text": [
      "Название не найдено\n",
      "Цена не найдена\n",
      "Характеристики не найдены\n",
      "Описание не найдено\n",
      "Расположение не найдено\n",
      "Фото не найдено на этом этапе.\n"
     ]
    },
    {
     "name": "stderr",
     "output_type": "stream",
     "text": [
      " 88%|████████████▎ | 44/50 [33:13<04:36, 46.07s/it]"
     ]
    },
    {
     "name": "stdout",
     "output_type": "stream",
     "text": [
      "Ошибка при нажатии на кнопку: Message: \n",
      "Stacktrace:\n",
      "0   chromedriver                        0x00000001033c3184 cxxbridge1$str$ptr + 3626716\n",
      "1   chromedriver                        0x00000001033bb9d4 cxxbridge1$str$ptr + 3596076\n",
      "2   chromedriver                        0x0000000102e28968 cxxbridge1$string$len + 89228\n",
      "3   chromedriver                        0x0000000102e6cd50 cxxbridge1$string$len + 368756\n",
      "4   chromedriver                        0x0000000102ea65b4 cxxbridge1$string$len + 604376\n",
      "5   chromedriver                        0x0000000102e61568 cxxbridge1$string$len + 321676\n",
      "6   chromedriver                        0x0000000102e621b8 cxxbridge1$string$len + 324828\n",
      "7   chromedriver                        0x000000010338e9ac cxxbridge1$str$ptr + 3411716\n",
      "8   chromedriver                        0x0000000103391ccc cxxbridge1$str$ptr + 3424804\n",
      "9   chromedriver                        0x000000010337586c cxxbridge1$str$ptr + 3308996\n",
      "10  chromedriver                        0x000000010339258c cxxbridge1$str$ptr + 3427044\n",
      "11  chromedriver                        0x000000010336709c cxxbridge1$str$ptr + 3249652\n",
      "12  chromedriver                        0x00000001033ac4b8 cxxbridge1$str$ptr + 3533328\n",
      "13  chromedriver                        0x00000001033ac634 cxxbridge1$str$ptr + 3533708\n",
      "14  chromedriver                        0x00000001033bb648 cxxbridge1$str$ptr + 3595168\n",
      "15  libsystem_pthread.dylib             0x000000019b0d5f94 _pthread_start + 136\n",
      "16  libsystem_pthread.dylib             0x000000019b0d0d34 thread_start + 8\n",
      "\n"
     ]
    },
    {
     "name": "stderr",
     "output_type": "stream",
     "text": [
      "100%|██████████████| 50/50 [37:50<00:00, 45.42s/it]\n"
     ]
    },
    {
     "name": "stdout",
     "output_type": "stream",
     "text": [
      "Начали парсинг страницы # 13\n"
     ]
    },
    {
     "name": "stderr",
     "output_type": "stream",
     "text": [
      "100%|██████████████| 50/50 [41:32<00:00, 49.84s/it]\n"
     ]
    },
    {
     "name": "stdout",
     "output_type": "stream",
     "text": [
      "Начали парсинг страницы # 14\n"
     ]
    },
    {
     "name": "stderr",
     "output_type": "stream",
     "text": [
      " 78%|██████████▉   | 39/50 [33:57<09:21, 51.05s/it]"
     ]
    },
    {
     "name": "stdout",
     "output_type": "stream",
     "text": [
      "Характеристики не найдены\n",
      "Описание не найдено\n",
      "Расположение не найдено\n"
     ]
    },
    {
     "name": "stderr",
     "output_type": "stream",
     "text": [
      "100%|██████████████| 50/50 [42:11<00:00, 50.63s/it]\n"
     ]
    },
    {
     "name": "stdout",
     "output_type": "stream",
     "text": [
      "Начали парсинг страницы # 15\n"
     ]
    },
    {
     "name": "stderr",
     "output_type": "stream",
     "text": [
      "100%|██████████████| 50/50 [37:27<00:00, 44.96s/it]\n"
     ]
    },
    {
     "name": "stdout",
     "output_type": "stream",
     "text": [
      "Начали парсинг страницы # 16\n"
     ]
    },
    {
     "name": "stderr",
     "output_type": "stream",
     "text": [
      " 46%|██████▍       | 23/50 [15:48<18:18, 40.68s/it]"
     ]
    },
    {
     "name": "stdout",
     "output_type": "stream",
     "text": [
      "Ошибка при нажатии на кнопку: Message: \n",
      "Stacktrace:\n",
      "0   chromedriver                        0x00000001033c3184 cxxbridge1$str$ptr + 3626716\n",
      "1   chromedriver                        0x00000001033bb9d4 cxxbridge1$str$ptr + 3596076\n",
      "2   chromedriver                        0x0000000102e28968 cxxbridge1$string$len + 89228\n",
      "3   chromedriver                        0x0000000102e6cd50 cxxbridge1$string$len + 368756\n",
      "4   chromedriver                        0x0000000102ea65b4 cxxbridge1$string$len + 604376\n",
      "5   chromedriver                        0x0000000102e61568 cxxbridge1$string$len + 321676\n",
      "6   chromedriver                        0x0000000102e621b8 cxxbridge1$string$len + 324828\n",
      "7   chromedriver                        0x000000010338e9ac cxxbridge1$str$ptr + 3411716\n",
      "8   chromedriver                        0x0000000103391ccc cxxbridge1$str$ptr + 3424804\n",
      "9   chromedriver                        0x000000010337586c cxxbridge1$str$ptr + 3308996\n",
      "10  chromedriver                        0x000000010339258c cxxbridge1$str$ptr + 3427044\n",
      "11  chromedriver                        0x000000010336709c cxxbridge1$str$ptr + 3249652\n",
      "12  chromedriver                        0x00000001033ac4b8 cxxbridge1$str$ptr + 3533328\n",
      "13  chromedriver                        0x00000001033ac634 cxxbridge1$str$ptr + 3533708\n",
      "14  chromedriver                        0x00000001033bb648 cxxbridge1$str$ptr + 3595168\n",
      "15  libsystem_pthread.dylib             0x000000019b0d5f94 _pthread_start + 136\n",
      "16  libsystem_pthread.dylib             0x000000019b0d0d34 thread_start + 8\n",
      "\n"
     ]
    },
    {
     "name": "stderr",
     "output_type": "stream",
     "text": [
      " 72%|██████████    | 36/50 [24:55<08:55, 38.23s/it]"
     ]
    },
    {
     "name": "stdout",
     "output_type": "stream",
     "text": [
      "Описание не найдено\n"
     ]
    },
    {
     "name": "stderr",
     "output_type": "stream",
     "text": [
      "100%|██████████████| 50/50 [34:57<00:00, 41.94s/it]\n"
     ]
    },
    {
     "name": "stdout",
     "output_type": "stream",
     "text": [
      "Начали парсинг страницы # 17\n"
     ]
    },
    {
     "name": "stderr",
     "output_type": "stream",
     "text": [
      "100%|██████████████| 50/50 [37:11<00:00, 44.63s/it]\n"
     ]
    },
    {
     "name": "stdout",
     "output_type": "stream",
     "text": [
      "Начали парсинг страницы # 18\n"
     ]
    },
    {
     "name": "stderr",
     "output_type": "stream",
     "text": [
      "  2%|▎              | 1/50 [00:56<45:56, 56.26s/it]"
     ]
    },
    {
     "name": "stdout",
     "output_type": "stream",
     "text": [
      "Описание не найдено\n"
     ]
    },
    {
     "name": "stderr",
     "output_type": "stream",
     "text": [
      "100%|██████████████| 50/50 [29:43<00:00, 35.68s/it]\n"
     ]
    },
    {
     "name": "stdout",
     "output_type": "stream",
     "text": [
      "Начали парсинг страницы # 19\n"
     ]
    },
    {
     "name": "stderr",
     "output_type": "stream",
     "text": [
      " 94%|█████████████▏| 47/50 [35:07<01:58, 39.65s/it]"
     ]
    },
    {
     "name": "stdout",
     "output_type": "stream",
     "text": [
      "Описание не найдено\n"
     ]
    },
    {
     "name": "stderr",
     "output_type": "stream",
     "text": [
      "100%|██████████████| 50/50 [37:25<00:00, 44.91s/it]\n"
     ]
    },
    {
     "name": "stdout",
     "output_type": "stream",
     "text": [
      "Начали парсинг страницы # 20\n"
     ]
    },
    {
     "name": "stderr",
     "output_type": "stream",
     "text": [
      "  2%|▎              | 1/50 [00:56<45:56, 56.25s/it]"
     ]
    },
    {
     "name": "stdout",
     "output_type": "stream",
     "text": [
      "Описание не найдено\n"
     ]
    },
    {
     "name": "stderr",
     "output_type": "stream",
     "text": [
      "100%|██████████████| 50/50 [37:44<00:00, 45.28s/it]\n"
     ]
    },
    {
     "name": "stdout",
     "output_type": "stream",
     "text": [
      "Начали парсинг страницы # 21\n"
     ]
    },
    {
     "name": "stderr",
     "output_type": "stream",
     "text": [
      " 58%|████████      | 29/50 [23:03<18:58, 54.23s/it]"
     ]
    },
    {
     "name": "stdout",
     "output_type": "stream",
     "text": [
      "Описание не найдено\n"
     ]
    },
    {
     "name": "stderr",
     "output_type": "stream",
     "text": [
      "100%|██████████████| 50/50 [37:34<00:00, 45.09s/it]\n"
     ]
    },
    {
     "name": "stdout",
     "output_type": "stream",
     "text": [
      "Начали парсинг страницы # 22\n"
     ]
    },
    {
     "name": "stderr",
     "output_type": "stream",
     "text": [
      " 48%|██████▋       | 24/50 [17:59<18:41, 43.14s/it]"
     ]
    },
    {
     "name": "stdout",
     "output_type": "stream",
     "text": [
      "Характеристики не найдены\n",
      "Описание не найдено\n",
      "Расположение не найдено\n"
     ]
    },
    {
     "name": "stderr",
     "output_type": "stream",
     "text": [
      " 88%|████████████▎ | 44/50 [33:41<04:52, 48.82s/it]"
     ]
    },
    {
     "name": "stdout",
     "output_type": "stream",
     "text": [
      "Описание не найдено\n"
     ]
    },
    {
     "name": "stderr",
     "output_type": "stream",
     "text": [
      "100%|██████████████| 50/50 [38:18<00:00, 45.97s/it]\n"
     ]
    },
    {
     "name": "stdout",
     "output_type": "stream",
     "text": [
      "Начали парсинг страницы # 23\n"
     ]
    },
    {
     "name": "stderr",
     "output_type": "stream",
     "text": [
      " 98%|█████████████▋| 49/50 [37:42<00:48, 48.96s/it]"
     ]
    },
    {
     "name": "stdout",
     "output_type": "stream",
     "text": [
      "Характеристики не найдены\n",
      "Описание не найдено\n",
      "Расположение не найдено\n"
     ]
    },
    {
     "name": "stderr",
     "output_type": "stream",
     "text": [
      "100%|██████████████| 50/50 [38:39<00:00, 46.39s/it]\n"
     ]
    },
    {
     "name": "stdout",
     "output_type": "stream",
     "text": [
      "Начали парсинг страницы # 24\n"
     ]
    },
    {
     "name": "stderr",
     "output_type": "stream",
     "text": [
      "100%|██████████████| 50/50 [37:05<00:00, 44.52s/it]\n"
     ]
    },
    {
     "name": "stdout",
     "output_type": "stream",
     "text": [
      "Начали парсинг страницы # 25\n"
     ]
    },
    {
     "name": "stderr",
     "output_type": "stream",
     "text": [
      "100%|██████████████| 50/50 [37:17<00:00, 44.74s/it]\n"
     ]
    },
    {
     "name": "stdout",
     "output_type": "stream",
     "text": [
      "Начали парсинг страницы # 26\n"
     ]
    },
    {
     "name": "stderr",
     "output_type": "stream",
     "text": [
      " 54%|███████▌      | 27/50 [23:06<17:58, 46.88s/it]"
     ]
    },
    {
     "name": "stdout",
     "output_type": "stream",
     "text": [
      "Описание не найдено\n"
     ]
    },
    {
     "name": "stderr",
     "output_type": "stream",
     "text": [
      "100%|██████████████| 50/50 [44:32<00:00, 53.45s/it]\n"
     ]
    },
    {
     "name": "stdout",
     "output_type": "stream",
     "text": [
      "Начали парсинг страницы # 27\n"
     ]
    },
    {
     "name": "stderr",
     "output_type": "stream",
     "text": [
      " 30%|████▏         | 15/50 [13:55<32:36, 55.90s/it]"
     ]
    },
    {
     "name": "stdout",
     "output_type": "stream",
     "text": [
      "Характеристики не найдены\n",
      "Описание не найдено\n",
      "Расположение не найдено\n"
     ]
    },
    {
     "name": "stderr",
     "output_type": "stream",
     "text": [
      "100%|██████████████| 50/50 [45:35<00:00, 54.72s/it]\n"
     ]
    },
    {
     "name": "stdout",
     "output_type": "stream",
     "text": [
      "Начали парсинг страницы # 28\n"
     ]
    },
    {
     "name": "stderr",
     "output_type": "stream",
     "text": [
      " 70%|█████████▊    | 35/50 [29:58<13:48, 55.23s/it]"
     ]
    },
    {
     "name": "stdout",
     "output_type": "stream",
     "text": [
      "Характеристики не найдены\n",
      "Описание не найдено\n",
      "Расположение не найдено\n"
     ]
    },
    {
     "name": "stderr",
     "output_type": "stream",
     "text": [
      " 78%|██████████▉   | 39/50 [33:11<09:37, 52.46s/it]"
     ]
    },
    {
     "name": "stdout",
     "output_type": "stream",
     "text": [
      "Описание не найдено\n"
     ]
    },
    {
     "name": "stderr",
     "output_type": "stream",
     "text": [
      "100%|██████████████| 50/50 [43:25<00:00, 52.11s/it]\n"
     ]
    },
    {
     "name": "stdout",
     "output_type": "stream",
     "text": [
      "Начали парсинг страницы # 29\n"
     ]
    },
    {
     "name": "stderr",
     "output_type": "stream",
     "text": [
      " 68%|█████████▌    | 34/50 [28:31<12:32, 47.03s/it]"
     ]
    },
    {
     "name": "stdout",
     "output_type": "stream",
     "text": [
      "Фото не найдено на этом этапе.\n"
     ]
    },
    {
     "name": "stderr",
     "output_type": "stream",
     "text": [
      " 70%|█████████▊    | 35/50 [29:15<11:31, 46.10s/it]"
     ]
    },
    {
     "name": "stdout",
     "output_type": "stream",
     "text": [
      "Ошибка при нажатии на кнопку: Message: \n",
      "Stacktrace:\n",
      "0   chromedriver                        0x00000001033c3184 cxxbridge1$str$ptr + 3626716\n",
      "1   chromedriver                        0x00000001033bb9d4 cxxbridge1$str$ptr + 3596076\n",
      "2   chromedriver                        0x0000000102e28968 cxxbridge1$string$len + 89228\n",
      "3   chromedriver                        0x0000000102e6cd50 cxxbridge1$string$len + 368756\n",
      "4   chromedriver                        0x0000000102ea65b4 cxxbridge1$string$len + 604376\n",
      "5   chromedriver                        0x0000000102e61568 cxxbridge1$string$len + 321676\n",
      "6   chromedriver                        0x0000000102e621b8 cxxbridge1$string$len + 324828\n",
      "7   chromedriver                        0x000000010338e9ac cxxbridge1$str$ptr + 3411716\n",
      "8   chromedriver                        0x0000000103391ccc cxxbridge1$str$ptr + 3424804\n",
      "9   chromedriver                        0x000000010337586c cxxbridge1$str$ptr + 3308996\n",
      "10  chromedriver                        0x000000010339258c cxxbridge1$str$ptr + 3427044\n",
      "11  chromedriver                        0x000000010336709c cxxbridge1$str$ptr + 3249652\n",
      "12  chromedriver                        0x00000001033ac4b8 cxxbridge1$str$ptr + 3533328\n",
      "13  chromedriver                        0x00000001033ac634 cxxbridge1$str$ptr + 3533708\n",
      "14  chromedriver                        0x00000001033bb648 cxxbridge1$str$ptr + 3595168\n",
      "15  libsystem_pthread.dylib             0x000000019b0d5f94 _pthread_start + 136\n",
      "16  libsystem_pthread.dylib             0x000000019b0d0d34 thread_start + 8\n",
      "\n"
     ]
    },
    {
     "name": "stderr",
     "output_type": "stream",
     "text": [
      "100%|██████████████| 50/50 [42:11<00:00, 50.63s/it]\n"
     ]
    },
    {
     "name": "stdout",
     "output_type": "stream",
     "text": [
      "Начали парсинг страницы # 30\n"
     ]
    },
    {
     "name": "stderr",
     "output_type": "stream",
     "text": [
      " 88%|████████████▎ | 44/50 [34:51<04:54, 49.12s/it]"
     ]
    },
    {
     "name": "stdout",
     "output_type": "stream",
     "text": [
      "Описание не найдено\n"
     ]
    },
    {
     "name": "stderr",
     "output_type": "stream",
     "text": [
      "100%|██████████████| 50/50 [38:54<00:00, 46.70s/it]\n"
     ]
    }
   ],
   "source": [
    "print(output_folder)\n",
    "\n",
    "for page_num in range(start_page_number, end_page_number):\n",
    "    \n",
    "    print(f\"Начали парсинг страницы # {page_num}\")\n",
    "\n",
    "    df_page = pd.DataFrame(columns=columns)\n",
    "    \n",
    "    try:\n",
    "        # Загрузка страницы с объявлениями\n",
    "        url = URL_TEMPLATE + str(page_num)\n",
    "        driver.get(url)\n",
    "        time.sleep(PAUSE_DURATION_SECONDS)\n",
    "\n",
    "        # Получаем HTML-код страницы\n",
    "        page_source = driver.page_source\n",
    "        soup = BeautifulSoup(page_source, 'html.parser')\n",
    "  \n",
    "        # Извлекаем ссылки на объявления на текущей странице\n",
    "        links = get_ad_urls(soup)\n",
    "\n",
    "        for link in tqdm(links):\n",
    "            \n",
    "            try:\n",
    "                # Переход на страницу объявления\n",
    "                driver.get(link)\n",
    "                time.sleep(PAUSE_DURATION_SECONDS)  # Задержка для полной загрузки\n",
    "\n",
    "                # Парсим данные на странице объявления (название, цена, фото, описание и т.д.)\n",
    "                ad_data = parse_avito_page(driver=driver) # <- словарик \n",
    "                ad_data['link'] = link\n",
    "                ad_data['photo'] = get_photos(driver=driver, cnt=20)\n",
    "\n",
    "                df_page = pd.concat([df_page, pd.DataFrame([ad_data])], ignore_index=True)\n",
    "\n",
    "                \n",
    "            except TimeoutException:\n",
    "                print(f\"Ошибка: объявление {link} не загрузилось, пропускаем...\")\n",
    "                continue\n",
    "            except Exception as e:\n",
    "                print(f\"Произошла ошибка при обработке объявления {link}: {e}\")\n",
    "                continue\n",
    "\n",
    "        # Сохраняем данные для текущей страницы в DataFrame\n",
    "        df_page.to_parquet(f'{output_folder}/cars_data_page_{page_num}.parquet')\n",
    "\n",
    "    except TimeoutException:\n",
    "        print(f\"Ошибка: страница {page_num} не загрузилась, пропускаем...\")\n",
    "        continue\n",
    "    except Exception as e:\n",
    "        print(f\"Произошла ошибка на странице {page_num}: {e}\")\n",
    "        continue\n",
    "\n"
   ]
  },
  {
   "cell_type": "markdown",
   "id": "5d76c331-2639-4718-bf85-b9866862e7a8",
   "metadata": {},
   "source": [
    " "
   ]
  },
  {
   "cell_type": "markdown",
   "id": "ae647b25-6698-4b8b-86ee-26e3a9de59db",
   "metadata": {},
   "source": [
    "## Завершаем сессию"
   ]
  },
  {
   "cell_type": "code",
   "execution_count": 6,
   "id": "d5329d71-d824-41f8-b44f-dc8dc22d6c80",
   "metadata": {},
   "outputs": [],
   "source": [
    "# Закрываем драйвер после завершения\n",
    "driver.quit()"
   ]
  },
  {
   "cell_type": "markdown",
   "id": "efc8729f-4ad8-47fa-a078-fe608db8a56d",
   "metadata": {},
   "source": [
    " "
   ]
  }
 ],
 "metadata": {
  "kernelspec": {
   "display_name": "Python (parser2)",
   "language": "python",
   "name": "venv"
  },
  "language_info": {
   "codemirror_mode": {
    "name": "ipython",
    "version": 3
   },
   "file_extension": ".py",
   "mimetype": "text/x-python",
   "name": "python",
   "nbconvert_exporter": "python",
   "pygments_lexer": "ipython3",
   "version": "3.11.7"
  }
 },
 "nbformat": 4,
 "nbformat_minor": 5
}
