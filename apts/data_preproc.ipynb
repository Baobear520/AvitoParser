{
 "cells": [
  {
   "cell_type": "markdown",
   "id": "d27e2f86-98dc-48b3-8587-0868925420d5",
   "metadata": {},
   "source": [
    "# Обработка данных "
   ]
  },
  {
   "cell_type": "markdown",
   "id": "b41275cb-53b2-46cd-91a9-805d59879f42",
   "metadata": {},
   "source": [
    "## Подключение "
   ]
  },
  {
   "cell_type": "code",
   "execution_count": 1,
   "id": "2c5006f9-2f69-4658-88be-0da8a5fb5506",
   "metadata": {},
   "outputs": [
    {
     "name": "stdout",
     "output_type": "stream",
     "text": [
      "Версия Python: 3.11.8 (main, Feb 26 2024, 15:36:12) [Clang 14.0.6 ]\n"
     ]
    }
   ],
   "source": [
    "import sys\n",
    "print('Версия Python:', sys.version)\n",
    "\n",
    "import numpy as np \n",
    "np.random.seed(42)\n",
    "\n",
    "\n",
    "import pandas as pd\n",
    "pd.set_option('display.max_rows', 500)\n",
    "pd.set_option('display.max_columns', 500)\n",
    "pd.set_option('display.width', 1000)\n",
    "pd.set_option('display.max_colwidth', None)\n",
    "pd.set_option('display.float_format', lambda x: '%.3f' % x)\n",
    "\n",
    "import re\n",
    "import os"
   ]
  },
  {
   "cell_type": "markdown",
   "id": "db64fa5c-a0d5-4e42-8995-91c0f5d8a7d7",
   "metadata": {},
   "source": [
    " "
   ]
  },
  {
   "cell_type": "markdown",
   "id": "6b7d076f-c13d-4fcc-a540-2963cf39aa7e",
   "metadata": {},
   "source": [
    "## Данные "
   ]
  },
  {
   "cell_type": "code",
   "execution_count": 2,
   "id": "a54edb13-b3ae-4fa9-8cfd-4ef853f1ecb8",
   "metadata": {},
   "outputs": [
    {
     "name": "stdout",
     "output_type": "stream",
     "text": [
      "['data/folder5', 'data/folder2', 'data/folder3', 'data/folder4', 'data/folder10', 'data/folder8', 'data/folder1', 'data/folder6', 'data/folder7', 'data/folder9']\n"
     ]
    }
   ],
   "source": [
    "folders = [\"data/\" + i for i in os.listdir(f\"data/\") if \"folder\" in i]\n",
    "print(folders)"
   ]
  },
  {
   "cell_type": "code",
   "execution_count": 3,
   "id": "4561aa31-c0b9-4a96-8b10-3ee08cfddb20",
   "metadata": {},
   "outputs": [
    {
     "name": "stdout",
     "output_type": "stream",
     "text": [
      "(7275, 7)\n",
      "(4596, 7)\n"
     ]
    }
   ],
   "source": [
    "dfs = []\n",
    "\n",
    "for folder in folders:\n",
    "    for filename in os.listdir(folder):\n",
    "        if filename.endswith('.parquet'): \n",
    "            filepath = os.path.join(folder, filename)\n",
    "            current_df = pd.read_parquet(filepath)\n",
    "            dfs.append(current_df)\n",
    "\n",
    "df = pd.concat(dfs, ignore_index=True)\n",
    "print(df.shape)\n",
    "\n",
    "df = df.drop_duplicates(subset=['link'])\n",
    "df = df.dropna()\n",
    "print(df.shape)"
   ]
  },
  {
   "cell_type": "code",
   "execution_count": 4,
   "id": "f42233f2-aeef-4b76-827d-b115da0d72da",
   "metadata": {},
   "outputs": [
    {
     "data": {
      "text/plain": [
       "0.6317525773195877"
      ]
     },
     "execution_count": 4,
     "metadata": {},
     "output_type": "execute_result"
    }
   ],
   "source": [
    "4596 / 7275"
   ]
  },
  {
   "cell_type": "markdown",
   "id": "d9fa9c1c-af7a-4c2e-ad4e-dd52c04968d9",
   "metadata": {},
   "source": [
    " "
   ]
  },
  {
   "cell_type": "markdown",
   "id": "33cb620e-c2ea-423f-96e2-e82eb14e9e0d",
   "metadata": {},
   "source": [
    "## Обработка данных "
   ]
  },
  {
   "cell_type": "code",
   "execution_count": 5,
   "id": "b13381db-b53b-4636-8fe0-712c9972e924",
   "metadata": {},
   "outputs": [
    {
     "name": "stdout",
     "output_type": "stream",
     "text": [
      "1667\n"
     ]
    }
   ],
   "source": [
    "def get_count_rooms(lst):\n",
    "    lst = list(filter(lambda x: 'Количество комнат' in x, lst))\n",
    "    if len(lst) > 0: \n",
    "        return lst[0].replace('Количество комнат:', '')\n",
    "    \n",
    "def get_total_area(lst):\n",
    "    lst = list(filter(lambda x: 'Общая площадь' in x, lst))\n",
    "    if len(lst) > 0: \n",
    "        return float(re.sub(r'\\xa0|м²', '', lst[0].replace('Общая площадь:', '')))\n",
    "\n",
    "def get_kitchen_area(lst):\n",
    "    lst = list(filter(lambda x: 'Площадь кухни' in x, lst))\n",
    "    if len(lst) > 0: \n",
    "        return float(re.sub(r'\\xa0|м²', '', lst[0].replace('Площадь кухни:', '')))\n",
    "\n",
    "def get_living_area(lst):\n",
    "    lst = list(filter(lambda x: 'Жилая площадь' in x, lst))\n",
    "    if len(lst) > 0: \n",
    "        return float(re.sub(r'\\xa0|м²', '', lst[0].replace('Жилая площадь:', '')))\n",
    "\n",
    "def get_floor_info(lst):\n",
    "    lst = list(filter(lambda x: 'Этаж' in x, lst))\n",
    "    if len(lst) > 0:\n",
    "        match = re.search(r'Этаж:(\\d+)\\s*из\\s*(\\d+)', lst[0])\n",
    "        if match:\n",
    "            current_floor = int(match.group(1))\n",
    "            total_floors = int(match.group(2))\n",
    "            return current_floor, total_floors\n",
    "    return None, None\n",
    "\n",
    "def get_balcony_info(lst):\n",
    "    lst = list(filter(lambda x: 'Балкон или лоджия' in x, lst))\n",
    "    if len(lst) > 0: \n",
    "        return lst[0].replace('Балкон или лоджия:', '')\n",
    "\n",
    "def get_extra_info(lst):\n",
    "    lst = list(filter(lambda x: 'Дополнительно' in x, lst))\n",
    "    if len(lst) > 0: \n",
    "        return lst[0].replace('Дополнительно:', '')\n",
    "\n",
    "def get_room_type(lst):\n",
    "    lst = list(filter(lambda x: 'Тип комнат' in x, lst))\n",
    "    if len(lst) > 0: \n",
    "        return lst[0].replace('Тип комнат:', '')\n",
    "\n",
    "def get_bathroom_info(lst):\n",
    "    lst = list(filter(lambda x: 'Санузел' in x, lst))\n",
    "    if len(lst) > 0: \n",
    "        return lst[0].replace('Санузел:', '')\n",
    "\n",
    "def get_repaire_info(lst):\n",
    "    lst = list(filter(lambda x: 'Ремонт' in x, lst))\n",
    "    if len(lst) > 0: \n",
    "        return lst[0].replace('Ремонт:', '')\n",
    "\n",
    "def get_furniture_info(lst):\n",
    "    lst = list(filter(lambda x: 'Мебель' in x, lst))\n",
    "    if len(lst) > 0: \n",
    "        return lst[0].replace('Мебель:', '')\n",
    "\n",
    "def get_technique_info(lst):\n",
    "    lst = list(filter(lambda x: 'Техника' in x, lst))\n",
    "    if len(lst) > 0: \n",
    "        return lst[0].replace('Техника:', '')\n",
    "\n",
    "def get_tv_info(lst):\n",
    "    lst = list(filter(lambda x: 'Интернет и ТВ' in x, lst))\n",
    "    if len(lst) > 0: \n",
    "        return lst[0].replace('Интернет и ТВ:', '')\n",
    "\n",
    "df['characteristics'] = df['characteristics'].apply(eval)\n",
    "df['photo'] = df['photo'].apply(lambda x: list(set(eval(x))))\n",
    "df['price'] = df['price'].astype(int)\n",
    "\n",
    "df['count_rooms'] = df['characteristics'].apply(get_count_rooms)\n",
    "df['count_total_area'] = df['characteristics'].apply(get_total_area)\n",
    "df['kitchen_area'] = df['characteristics'].apply(get_kitchen_area)\n",
    "df['living_area'] = df['characteristics'].apply(get_living_area)\n",
    "df['current_floor'] = df['characteristics'].apply(lambda x: get_floor_info(x)[0])\n",
    "df['total_floor'] = df['characteristics'].apply(lambda x: get_floor_info(x)[1])\n",
    "df['balcony_info'] = df['characteristics'].apply(get_balcony_info)\n",
    "df['extra_info'] = df['characteristics'].apply(get_extra_info)\n",
    "df['room_type'] = df['characteristics'].apply(get_room_type)\n",
    "df['bathroom_info'] = df['characteristics'].apply(get_bathroom_info)\n",
    "df['repaire_info'] = df['characteristics'].apply(get_repaire_info)\n",
    "df['furniture_info'] = df['characteristics'].apply(get_furniture_info)\n",
    "df['technique_info'] = df['characteristics'].apply(get_technique_info)\n",
    "df['tv_info'] = df['characteristics'].apply(get_tv_info)\n",
    "\n",
    "# df = df.dropna()\n",
    "print(df.shape[0])"
   ]
  },
  {
   "cell_type": "code",
   "execution_count": 6,
   "id": "2f7bb397-8e5f-4fdd-a0b1-985716335360",
   "metadata": {
    "scrolled": true
   },
   "outputs": [
    {
     "data": {
      "text/html": [
       "<div>\n",
       "<style scoped>\n",
       "    .dataframe tbody tr th:only-of-type {\n",
       "        vertical-align: middle;\n",
       "    }\n",
       "\n",
       "    .dataframe tbody tr th {\n",
       "        vertical-align: top;\n",
       "    }\n",
       "\n",
       "    .dataframe thead th {\n",
       "        text-align: right;\n",
       "    }\n",
       "</style>\n",
       "<table border=\"1\" class=\"dataframe\">\n",
       "  <thead>\n",
       "    <tr style=\"text-align: right;\">\n",
       "      <th></th>\n",
       "      <th>title</th>\n",
       "      <th>price</th>\n",
       "      <th>characteristics</th>\n",
       "      <th>description</th>\n",
       "      <th>location</th>\n",
       "      <th>link</th>\n",
       "      <th>photo</th>\n",
       "      <th>count_rooms</th>\n",
       "      <th>count_total_area</th>\n",
       "      <th>kitchen_area</th>\n",
       "      <th>living_area</th>\n",
       "      <th>current_floor</th>\n",
       "      <th>total_floor</th>\n",
       "      <th>balcony_info</th>\n",
       "      <th>extra_info</th>\n",
       "      <th>room_type</th>\n",
       "      <th>bathroom_info</th>\n",
       "      <th>repaire_info</th>\n",
       "      <th>furniture_info</th>\n",
       "      <th>technique_info</th>\n",
       "      <th>tv_info</th>\n",
       "    </tr>\n",
       "  </thead>\n",
       "  <tbody>\n",
       "    <tr>\n",
       "      <th>1435</th>\n",
       "      <td>3-к. квартира, 100 м², 6/6 эт.</td>\n",
       "      <td>110000</td>\n",
       "      <td>[Количество комнат:3, Общая площадь:100 м², Площадь кухни:32 м², Жилая площадь:50 м², Этаж:6 из 6, Балкон или лоджия:балкон, Тип комнат:изолированные, Санузел:раздельный, Ремонт:евро, Мебель:кухня, хранение одежды, спальные места, Техника:холодильник, плита, стиральная машина, посудомоечная машина, телевизор, Интернет и ТВ:Wi-Fi, телевидение]</td>\n",
       "      <td>Kваpтиpa 100 мeтpов квадратных нa Мoсковскoм Пpoспектe. B пeшeй дocтупности от метрo Пapк Пoбеды. Квapтиpа поcле капитaльногo pемoнтa. Полноcтью обоpудoвaнa мeбeлью и бытoвой тeхникой. В кухнe-гoстиной рaсполoжeн большoй угловoй дивaн, электрoкамин и телeвизоp, стол и кухонный гарнитур. Две спальни. Есть гардеробная комната. Также имеется вместительный шкаф в прихожей. Два санузла. Ванная комната 10 метров с окном.</td>\n",
       "      <td>Санкт-Петербург, Московский пр-т, 198</td>\n",
       "      <td>https://www.avito.ru/sankt-peterburg/kvartiry/3-k._kvartira_100_m_66_et._2648385544</td>\n",
       "      <td>[https://60.img.avito.st/image/1/1.3RuSs7a6cfKkGrP3pJyqd1gQd_gmkHkwIxBz9DIWcw.4T5Aj7cTFiXbFpUHgry5PYAZfal_mjowBXZDdvXPx00, https://80.img.avito.st/image/1/1.rPJBCra6ABt3o8IeFXSksYOpBhH1KQjZ8KkCHeGvAg.n__ZJdfOwZgfONFJc-A9JpQ5fIJLzGgE4f_XIz_y8M4, https://50.img.avito.st/image/1/1.n2dNa7a6M457wvGLfy2XJI_INYT5SDtM_MgxiO3OMQ.83_IzJ20fud7tzT8vGNcO5124_wPJJtAR2lbLaG6nx0, https://90.img.avito.st/image/1/1.DyM6WLa6o8oM8WHPKBwHYPj7pcCOe6sIi_uhzJr9oQ.Aayl9TQrnzzP0YP51D9991ojMPX9pNtY8B-BbcWzq0Q, https://70.img.avito.st/image/1/1.PtdDQ7a6kj516lA7Mxd2vI7glDT3YJr88uCQOOPmkA.TOjNyj5iiCfxfCwHvd6EWwG-rYua1nM0mZiBq-v1quM, https://80.img.avito.st/image/1/1.6wsmDra6R-IQp4XnfGWnZ-ytQeiSLU8gl61F5IarRQ.Kb1DKHsDI7CqG0rReEmiOfNYLxHq_7h1OcSJaABxTDc, https://40.img.avito.st/image/1/1.uUiIULa6FaG--dek9hqxC0rzE6s8cx1jOfMXpyj1Fw.Rg0Qv4iNMr6sf2MDFlyPNRq60BVswQHyylhj9adjIJE, https://60.img.avito.st/image/1/1.LBhDura6gPF1E0L0F5osW4EZhvv3mYgz8hmC9-Mfgg.Cs1hGtFEzlIxKo37FqZhDF2BF5Qg3iTIIBuvlsSG-_4, https://40.img.avito.st/image/1/1.tPJBPra6GBt3l9oeJXS8sYOdHhH1HRDZ8J0aHeGbGg.yDMkwFVxo1QqCRWGPP4VyTlhp7Qz_oT8PDp9G6fNzIo, https://10.img.avito.st/image/1/1.aqPgU7a6xkrW-gRPuDomzyrwwEBUcM6IUfDETED2xA.d9yJ6dPpxiVS7xiz_U3EKNuaCi_ooNCX0PcihFoC3BU, https://00.img.avito.st/image/1/1.NpZc5ba6mn9qTFh6PJk-1Z5GnHXoxpK97UaYefxAmA.xOkkXCNV0TUctkgt97PvBhZLIRdlR9XUTYk004V-_VI, https://60.img.avito.st/image/1/1.2ysm4La6d8IQSbXHHM-sR-xDcciSw38Al0N1xIZFdQ.4vdF9-uVkZVAauHhjRpj97Xd7-LP48xGvYQSDCKYZ-4, https://00.img.avito.st/image/1/1.BdhLWba6qTF98Gs0TXEfm4n6rzv_eqHz-vqrN-v8qw.DrE4ybDIJZqK65iXplAs9v5y0Bj0-YfXjq9VHHwgztI, https://90.img.avito.st/image/1/1.DcmFTLa6oSCz5WMlkwgFikfvpyoxb6niNO-jJiXpow.RQbCIY4VQvy6WgGm8bNCXJ7KVHlTDxVDT7mHl6EBJsw, https://80.img.avito.st/image/1/1.r2dNd7a6A4573sGLHwmnJI_UBYT5VAtM_NQBiO3SAQ.bPNJfcJJyjpmJNx91Oj0Qe3QIBCzf-QWaFcFJHSL6w0, https://20.img.avito.st/image/1/1.E4N5Hra6v2pPt31vU2YbwLu9uWDNPbeoyL29bNm7vQ.0obygDPypKboUjB2yPrNnUj-IN5-_kypOIvycEbfVeI, https://80.img.avito.st/image/1/1.uKVcjra6FExqJ9ZJIIyau5EtEkborRyO7S0WSvwrFg.qTKc3pWR_PTsnc0zQD9AOkXc_1vt9dpr2WDMIRrx9lI, https://40.img.avito.st/image/1/1.zdhDaba6YTF1wKM0VVrfm4HKZzv3Smnz8spjN-PMYw.DbzBClY2PtWhjOSi-ZcIZB6ihdNdg5wnWJTpnz6IwNE, https://10.img.avito.st/image/1/1.I-N5Hra6jwpPt00PM2oroLu9iQDNPYfIyL2NDNm7jQ.TI-AK5PD0TI6VZlVa0fUBjJJqmey9vBupaWaLoClkVg, https://00.img.avito.st/image/1/1.8UiJgba6XaG_KJ-k58LkC0siW6s9olVjOCJfpykkXw.vNz9moeJqSWi-yv276Nsa5FQkYqZC2jS2mfjeLQ-TGo]</td>\n",
       "      <td>3</td>\n",
       "      <td>100.000</td>\n",
       "      <td>32.000</td>\n",
       "      <td>50.000</td>\n",
       "      <td>6</td>\n",
       "      <td>6</td>\n",
       "      <td>балкон</td>\n",
       "      <td>None</td>\n",
       "      <td>изолированные</td>\n",
       "      <td>раздельный</td>\n",
       "      <td>евро</td>\n",
       "      <td>кухня, хранение одежды, спальные места</td>\n",
       "      <td>холодильник, плита, стиральная машина, посудомоечная машина, телевизор</td>\n",
       "      <td>Wi-Fi, телевидение</td>\n",
       "    </tr>\n",
       "  </tbody>\n",
       "</table>\n",
       "</div>"
      ],
      "text/plain": [
       "                               title   price                                                                                                                                                                                                                                                                                                                                           characteristics                                                                                                                                                                                                                                                                                                                                                                                                                         description                               location                                                                                 link  \\\n",
       "1435  3-к. квартира, 100 м², 6/6 эт.  110000  [Количество комнат:3, Общая площадь:100 м², Площадь кухни:32 м², Жилая площадь:50 м², Этаж:6 из 6, Балкон или лоджия:балкон, Тип комнат:изолированные, Санузел:раздельный, Ремонт:евро, Мебель:кухня, хранение одежды, спальные места, Техника:холодильник, плита, стиральная машина, посудомоечная машина, телевизор, Интернет и ТВ:Wi-Fi, телевидение]  Kваpтиpa 100 мeтpов квадратных нa Мoсковскoм Пpoспектe. B пeшeй дocтупности от метрo Пapк Пoбеды. Квapтиpа поcле капитaльногo pемoнтa. Полноcтью обоpудoвaнa мeбeлью и бытoвой тeхникой. В кухнe-гoстиной рaсполoжeн большoй угловoй дивaн, электрoкамин и телeвизоp, стол и кухонный гарнитур. Две спальни. Есть гардеробная комната. Также имеется вместительный шкаф в прихожей. Два санузла. Ванная комната 10 метров с окном.  Санкт-Петербург, Московский пр-т, 198  https://www.avito.ru/sankt-peterburg/kvartiry/3-k._kvartira_100_m_66_et._2648385544   \n",
       "\n",
       "                                                                                                                                                                                                                                                                                                                                                                                                                                                                                                                                                                                                                                                                                                                                                                                                                                                                                                                                                                                                                                                                                                                                                                                                                                                                                                                                                                                                                                                                                                                                                                                                                                                                                                                                                                                                                                                                                                                                                                                                                                                                                                                                                                                                                                                                                                                                                                                                                                                                                                                                         photo  \\\n",
       "1435  [https://60.img.avito.st/image/1/1.3RuSs7a6cfKkGrP3pJyqd1gQd_gmkHkwIxBz9DIWcw.4T5Aj7cTFiXbFpUHgry5PYAZfal_mjowBXZDdvXPx00, https://80.img.avito.st/image/1/1.rPJBCra6ABt3o8IeFXSksYOpBhH1KQjZ8KkCHeGvAg.n__ZJdfOwZgfONFJc-A9JpQ5fIJLzGgE4f_XIz_y8M4, https://50.img.avito.st/image/1/1.n2dNa7a6M457wvGLfy2XJI_INYT5SDtM_MgxiO3OMQ.83_IzJ20fud7tzT8vGNcO5124_wPJJtAR2lbLaG6nx0, https://90.img.avito.st/image/1/1.DyM6WLa6o8oM8WHPKBwHYPj7pcCOe6sIi_uhzJr9oQ.Aayl9TQrnzzP0YP51D9991ojMPX9pNtY8B-BbcWzq0Q, https://70.img.avito.st/image/1/1.PtdDQ7a6kj516lA7Mxd2vI7glDT3YJr88uCQOOPmkA.TOjNyj5iiCfxfCwHvd6EWwG-rYua1nM0mZiBq-v1quM, https://80.img.avito.st/image/1/1.6wsmDra6R-IQp4XnfGWnZ-ytQeiSLU8gl61F5IarRQ.Kb1DKHsDI7CqG0rReEmiOfNYLxHq_7h1OcSJaABxTDc, https://40.img.avito.st/image/1/1.uUiIULa6FaG--dek9hqxC0rzE6s8cx1jOfMXpyj1Fw.Rg0Qv4iNMr6sf2MDFlyPNRq60BVswQHyylhj9adjIJE, https://60.img.avito.st/image/1/1.LBhDura6gPF1E0L0F5osW4EZhvv3mYgz8hmC9-Mfgg.Cs1hGtFEzlIxKo37FqZhDF2BF5Qg3iTIIBuvlsSG-_4, https://40.img.avito.st/image/1/1.tPJBPra6GBt3l9oeJXS8sYOdHhH1HRDZ8J0aHeGbGg.yDMkwFVxo1QqCRWGPP4VyTlhp7Qz_oT8PDp9G6fNzIo, https://10.img.avito.st/image/1/1.aqPgU7a6xkrW-gRPuDomzyrwwEBUcM6IUfDETED2xA.d9yJ6dPpxiVS7xiz_U3EKNuaCi_ooNCX0PcihFoC3BU, https://00.img.avito.st/image/1/1.NpZc5ba6mn9qTFh6PJk-1Z5GnHXoxpK97UaYefxAmA.xOkkXCNV0TUctkgt97PvBhZLIRdlR9XUTYk004V-_VI, https://60.img.avito.st/image/1/1.2ysm4La6d8IQSbXHHM-sR-xDcciSw38Al0N1xIZFdQ.4vdF9-uVkZVAauHhjRpj97Xd7-LP48xGvYQSDCKYZ-4, https://00.img.avito.st/image/1/1.BdhLWba6qTF98Gs0TXEfm4n6rzv_eqHz-vqrN-v8qw.DrE4ybDIJZqK65iXplAs9v5y0Bj0-YfXjq9VHHwgztI, https://90.img.avito.st/image/1/1.DcmFTLa6oSCz5WMlkwgFikfvpyoxb6niNO-jJiXpow.RQbCIY4VQvy6WgGm8bNCXJ7KVHlTDxVDT7mHl6EBJsw, https://80.img.avito.st/image/1/1.r2dNd7a6A4573sGLHwmnJI_UBYT5VAtM_NQBiO3SAQ.bPNJfcJJyjpmJNx91Oj0Qe3QIBCzf-QWaFcFJHSL6w0, https://20.img.avito.st/image/1/1.E4N5Hra6v2pPt31vU2YbwLu9uWDNPbeoyL29bNm7vQ.0obygDPypKboUjB2yPrNnUj-IN5-_kypOIvycEbfVeI, https://80.img.avito.st/image/1/1.uKVcjra6FExqJ9ZJIIyau5EtEkborRyO7S0WSvwrFg.qTKc3pWR_PTsnc0zQD9AOkXc_1vt9dpr2WDMIRrx9lI, https://40.img.avito.st/image/1/1.zdhDaba6YTF1wKM0VVrfm4HKZzv3Smnz8spjN-PMYw.DbzBClY2PtWhjOSi-ZcIZB6ihdNdg5wnWJTpnz6IwNE, https://10.img.avito.st/image/1/1.I-N5Hra6jwpPt00PM2oroLu9iQDNPYfIyL2NDNm7jQ.TI-AK5PD0TI6VZlVa0fUBjJJqmey9vBupaWaLoClkVg, https://00.img.avito.st/image/1/1.8UiJgba6XaG_KJ-k58LkC0siW6s9olVjOCJfpykkXw.vNz9moeJqSWi-yv276Nsa5FQkYqZC2jS2mfjeLQ-TGo]   \n",
       "\n",
       "     count_rooms  count_total_area  kitchen_area  living_area  current_floor  total_floor balcony_info extra_info      room_type bathroom_info repaire_info                          furniture_info                                                          technique_info             tv_info  \n",
       "1435           3           100.000        32.000       50.000              6            6       балкон       None  изолированные    раздельный         евро  кухня, хранение одежды, спальные места  холодильник, плита, стиральная машина, посудомоечная машина, телевизор  Wi-Fi, телевидение  "
      ]
     },
     "execution_count": 6,
     "metadata": {},
     "output_type": "execute_result"
    }
   ],
   "source": [
    "df.sample(1)"
   ]
  },
  {
   "cell_type": "code",
   "execution_count": 8,
   "id": "ebff208c-9f8e-433c-92df-c8b44d390229",
   "metadata": {},
   "outputs": [
    {
     "data": {
      "text/plain": [
       "['https://50.img.avito.st/image/1/1.aKlpS7a5xEBf4gZFNWJUnXfqxkbX6kZIH-_GQtv-wEI.JRdgdOvqyTu9D3O4ymWIUJjZNS-RiUqM-ky_4G3sOOo',\n",
       " 'https://90.img.avito.st/image/1/1.OvsIiba5lhI-IFQXcNUCzxYolBS2KBQafi2UELo8khA.epvk3QFmZwBo60ZHGlOYkkB3yoTu_eAbDEwRVBFCMcw',\n",
       " 'https://90.img.avito.st/image/1/1.6K8ShLa5REYkLYZDTqeLojolRkCsJcZOZCBGRKAxQEQ.I2kJpORaLuwy-qHyRpyI-xYmOgARuYMUA0cPSD2SPSU',\n",
       " 'https://50.img.avito.st/image/1/1.C6nknba5p0DSNGVF_oFjpMw8pUZaPCVIkjmlQlYoo0I.XtktmVU9q8Z22oMXzkDNvNoFHax2GbGuHuxgs13nyZs',\n",
       " 'https://60.img.avito.st/image/1/1.maNIKra5NUp-g_dPdgjxrmCLN0z2i7dCPo43SPqfMUg.fm4-fPeJU7gF2xb3lpxwLsJeGhlTosP9O_qNveZF3rM',\n",
       " 'https://00.img.avito.st/image/1/1.D9L0tLa5ozvCHWE-5pA05uoVoT1KFSEzghChOUYBpzk.zqNWfUBJF2hNeMM5BTmAdLUTvYrVJhS_Q8vWE1laMuE']"
      ]
     },
     "execution_count": 8,
     "metadata": {},
     "output_type": "execute_result"
    }
   ],
   "source": [
    "df.iloc[1435]['photo']"
   ]
  },
  {
   "cell_type": "code",
   "execution_count": null,
   "id": "1f5ddbb1-e2fd-4a84-af52-1166392b6f08",
   "metadata": {},
   "outputs": [],
   "source": []
  },
  {
   "cell_type": "code",
   "execution_count": null,
   "id": "408cd930-4dc4-4cf5-a76c-2dd1ff8d352e",
   "metadata": {},
   "outputs": [],
   "source": []
  }
 ],
 "metadata": {
  "kernelspec": {
   "display_name": "Python 3 (ipykernel)",
   "language": "python",
   "name": "python3"
  },
  "language_info": {
   "codemirror_mode": {
    "name": "ipython",
    "version": 3
   },
   "file_extension": ".py",
   "mimetype": "text/x-python",
   "name": "python",
   "nbconvert_exporter": "python",
   "pygments_lexer": "ipython3",
   "version": "3.11.8"
  }
 },
 "nbformat": 4,
 "nbformat_minor": 5
}
